{
 "cells": [
  {
   "cell_type": "markdown",
   "metadata": {},
   "source": [
    "# Introduction to Cross-Validation - Lab\n",
    "\n",
    "## Introduction\n",
    "\n",
    "In this lab, you'll be able to practice your cross-validation skills!\n",
    "\n",
    "\n",
    "## Objectives\n",
    "\n",
    "You will be able to:\n",
    "\n",
    "- Compare the results with normal holdout validation\n",
    "- Apply 5-fold cross validation for regression"
   ]
  },
  {
   "cell_type": "markdown",
   "metadata": {},
   "source": [
    "## Let's get started\n",
    "\n",
    "This time, let's only include the variables that were previously selected using recursive feature elimination. We included the code to preprocess below."
   ]
  },
  {
   "cell_type": "code",
   "execution_count": 1,
   "metadata": {},
   "outputs": [
    {
     "data": {
      "text/html": "<div>\n<style scoped>\n    .dataframe tbody tr th:only-of-type {\n        vertical-align: middle;\n    }\n\n    .dataframe tbody tr th {\n        vertical-align: top;\n    }\n\n    .dataframe thead th {\n        text-align: right;\n    }\n</style>\n<table border=\"1\" class=\"dataframe\">\n  <thead>\n    <tr style=\"text-align: right;\">\n      <th></th>\n      <th>CRIM</th>\n      <th>ZN</th>\n      <th>INDUS</th>\n      <th>CHAS</th>\n      <th>NOX</th>\n      <th>RM</th>\n      <th>AGE</th>\n      <th>DIS</th>\n      <th>RAD</th>\n      <th>TAX</th>\n      <th>PTRATIO</th>\n      <th>B</th>\n      <th>LSTAT</th>\n    </tr>\n  </thead>\n  <tbody>\n    <tr>\n      <th>0</th>\n      <td>0.00632</td>\n      <td>18.0</td>\n      <td>2.31</td>\n      <td>0.0</td>\n      <td>0.538</td>\n      <td>6.575</td>\n      <td>65.2</td>\n      <td>0.542096</td>\n      <td>1.0</td>\n      <td>296.0</td>\n      <td>15.3</td>\n      <td>1.000000</td>\n      <td>-1.275260</td>\n    </tr>\n    <tr>\n      <th>1</th>\n      <td>0.02731</td>\n      <td>0.0</td>\n      <td>7.07</td>\n      <td>0.0</td>\n      <td>0.469</td>\n      <td>6.421</td>\n      <td>78.9</td>\n      <td>0.623954</td>\n      <td>2.0</td>\n      <td>242.0</td>\n      <td>17.8</td>\n      <td>1.000000</td>\n      <td>-0.263711</td>\n    </tr>\n    <tr>\n      <th>2</th>\n      <td>0.02729</td>\n      <td>0.0</td>\n      <td>7.07</td>\n      <td>0.0</td>\n      <td>0.469</td>\n      <td>7.185</td>\n      <td>61.1</td>\n      <td>0.623954</td>\n      <td>2.0</td>\n      <td>242.0</td>\n      <td>17.8</td>\n      <td>0.989737</td>\n      <td>-1.627858</td>\n    </tr>\n    <tr>\n      <th>3</th>\n      <td>0.03237</td>\n      <td>0.0</td>\n      <td>2.18</td>\n      <td>0.0</td>\n      <td>0.458</td>\n      <td>6.998</td>\n      <td>45.8</td>\n      <td>0.707895</td>\n      <td>3.0</td>\n      <td>222.0</td>\n      <td>18.7</td>\n      <td>0.994276</td>\n      <td>-2.153192</td>\n    </tr>\n    <tr>\n      <th>4</th>\n      <td>0.06905</td>\n      <td>0.0</td>\n      <td>2.18</td>\n      <td>0.0</td>\n      <td>0.458</td>\n      <td>7.147</td>\n      <td>54.2</td>\n      <td>0.707895</td>\n      <td>3.0</td>\n      <td>222.0</td>\n      <td>18.7</td>\n      <td>1.000000</td>\n      <td>-1.162114</td>\n    </tr>\n  </tbody>\n</table>\n</div>",
      "text/plain": "      CRIM    ZN  INDUS  CHAS    NOX     RM   AGE       DIS  RAD    TAX  \\\n0  0.00632  18.0   2.31   0.0  0.538  6.575  65.2  0.542096  1.0  296.0   \n1  0.02731   0.0   7.07   0.0  0.469  6.421  78.9  0.623954  2.0  242.0   \n2  0.02729   0.0   7.07   0.0  0.469  7.185  61.1  0.623954  2.0  242.0   \n3  0.03237   0.0   2.18   0.0  0.458  6.998  45.8  0.707895  3.0  222.0   \n4  0.06905   0.0   2.18   0.0  0.458  7.147  54.2  0.707895  3.0  222.0   \n\n   PTRATIO         B     LSTAT  \n0     15.3  1.000000 -1.275260  \n1     17.8  1.000000 -0.263711  \n2     17.8  0.989737 -1.627858  \n3     18.7  0.994276 -2.153192  \n4     18.7  1.000000 -1.162114  "
     },
     "execution_count": 1,
     "metadata": {},
     "output_type": "execute_result"
    }
   ],
   "source": [
    "import pandas as pd\n",
    "import numpy as np\n",
    "import matplotlib.pyplot as plt\n",
    "%matplotlib inline\n",
    "from sklearn.datasets import load_boston\n",
    "\n",
    "boston = load_boston()\n",
    "\n",
    "boston_features = pd.DataFrame(boston.data, columns = boston.feature_names)\n",
    "b = boston_features[\"B\"]\n",
    "logdis = np.log(boston_features[\"DIS\"])\n",
    "loglstat = np.log(boston_features[\"LSTAT\"])\n",
    "\n",
    "# minmax scaling\n",
    "boston_features[\"B\"] = (b-min(b))/(max(b)-min(b))\n",
    "boston_features[\"DIS\"] = (logdis-min(logdis))/(max(logdis)-min(logdis))\n",
    "\n",
    "#standardization\n",
    "boston_features[\"LSTAT\"] = (loglstat-np.mean(loglstat))/np.sqrt(np.var(loglstat))\n",
    "\n",
    "boston_features.head()"
   ]
  },
  {
   "cell_type": "code",
   "execution_count": 2,
   "metadata": {},
   "outputs": [],
   "source": [
    "X = boston_features\n",
    "y = pd.DataFrame(boston.target, columns=['MEDV'])"
   ]
  },
  {
   "cell_type": "markdown",
   "metadata": {},
   "source": [
    "## Train test split\n",
    "\n",
    "Perform a train-test-split with a test set of 0.20."
   ]
  },
  {
   "cell_type": "code",
   "execution_count": 3,
   "metadata": {},
   "outputs": [
    {
     "name": "stdout",
     "output_type": "stream",
     "text": "404 102 404 102\n"
    }
   ],
   "source": [
    "from sklearn.model_selection import train_test_split\n",
    "X_train, X_test, y_train, y_test = train_test_split(X, y, test_size=0.20, random_state=42)\n",
    "print(len(X_train), len(X_test), len(y_train), len(y_test))"
   ]
  },
  {
   "cell_type": "markdown",
   "metadata": {},
   "source": [
    "Fit the model and apply the model to the make test set predictions"
   ]
  },
  {
   "cell_type": "code",
   "execution_count": 4,
   "metadata": {},
   "outputs": [],
   "source": [
    "from sklearn.linear_model import LinearRegression\n",
    "linreg = LinearRegression()\n",
    "linreg.fit(X_train, y_train)\n",
    "y_hat_train = linreg.predict(X_train)\n",
    "y_hat_test = linreg.predict(X_test)"
   ]
  },
  {
   "cell_type": "markdown",
   "metadata": {},
   "source": [
    "Calculate the residuals and the mean squared error"
   ]
  },
  {
   "cell_type": "code",
   "execution_count": 5,
   "metadata": {},
   "outputs": [
    {
     "name": "stdout",
     "output_type": "stream",
     "text": "Train Mean Squarred Error: 16.41786509350068\nTest Mean Squarred Error: 17.744121372848614\ndelta: 1.326256279347934\n"
    }
   ],
   "source": [
    "train_residuals = y_hat_train - y_train\n",
    "test_residuals = y_hat_test - y_test\n",
    "\n",
    "from sklearn.metrics import mean_squared_error\n",
    "\n",
    "train_mse = mean_squared_error(y_train, y_hat_train)\n",
    "test_mse = mean_squared_error(y_test, y_hat_test)\n",
    "print('Train Mean Squarred Error:', train_mse)\n",
    "print('Test Mean Squarred Error:', test_mse)\n",
    "\n",
    "delta = abs(train_mse - test_mse)\n",
    "print(\"delta: {}\".format(delta))"
   ]
  },
  {
   "cell_type": "markdown",
   "metadata": {},
   "source": [
    "## Cross-Validation: let's build it from scratch!"
   ]
  },
  {
   "cell_type": "markdown",
   "metadata": {},
   "source": [
    "### Create a cross-validation function"
   ]
  },
  {
   "cell_type": "markdown",
   "metadata": {},
   "source": [
    "Write a function k-folds that splits a dataset into k evenly sized pieces.\n",
    "If the full dataset is not divisible by k, make the first few folds one larger then later ones.\n",
    "\n",
    "We want the folds to be a list of subsets of data!"
   ]
  },
  {
   "cell_type": "code",
   "execution_count": 6,
   "metadata": {},
   "outputs": [],
   "source": [
    "def kfolds(data, cols, k):\n",
    "    kf = []\n",
    "    size = len(data)\n",
    "    d = int(size/k)\n",
    "    part_size = d\n",
    "    r = size % k\n",
    "    if r > 0:\n",
    "        part_size += 1\n",
    "\n",
    "    # Force data as pandas dataframe\n",
    "    df = pd.DataFrame(data, columns=cols)\n",
    "\n",
    "    # partition df\n",
    "    rbound = 0\n",
    "    for part in range(k):\n",
    "        lbound = rbound\n",
    "        tb = rbound + part_size\n",
    "        rbound = tb if tb <= size else size\n",
    "        df_part = df.iloc[lbound:rbound]\n",
    "        kf.append(df_part)    \n",
    "\n",
    "    return kf"
   ]
  },
  {
   "cell_type": "markdown",
   "metadata": {},
   "source": [
    "### Apply it to the Boston Housing Data"
   ]
  },
  {
   "cell_type": "code",
   "execution_count": 7,
   "metadata": {},
   "outputs": [
    {
     "data": {
      "text/plain": "5"
     },
     "execution_count": 7,
     "metadata": {},
     "output_type": "execute_result"
    }
   ],
   "source": [
    "b2 = load_boston()\n",
    "kf = kfolds(b2.data, b2.feature_names, 5)\n",
    "len(kf)"
   ]
  },
  {
   "cell_type": "code",
   "execution_count": 8,
   "metadata": {},
   "outputs": [
    {
     "name": "stdout",
     "output_type": "stream",
     "text": "CRIM    ZN  INDUS  CHAS    NOX     RM   AGE       DIS  RAD    TAX  \\\n0  0.00632  18.0   2.31   0.0  0.538  6.575  65.2  0.322397  1.0  296.0   \n1  0.02731   0.0   7.07   0.0  0.469  6.421  78.9  0.484302  2.0  242.0   \n2  0.02729   0.0   7.07   0.0  0.469  7.185  61.1  0.484302  2.0  242.0   \n3  0.03237   0.0   2.18   0.0  0.458  6.998  45.8  0.650328  3.0  222.0   \n4  0.06905   0.0   2.18   0.0  0.458  7.147  54.2  0.650328  3.0  222.0   \n\n   PTRATIO         B     LSTAT  MEDV  \n0     15.3  1.000000 -1.246661  24.0  \n1     17.8  1.000000 -0.062010  21.6  \n2     17.8  0.975228 -1.659597  34.7  \n3     18.7  0.986184 -2.274829  33.4  \n4     18.7  1.000000 -1.114152  36.2  \n\n        CRIM   ZN  INDUS  CHAS   NOX     RM   AGE       DIS  RAD    TAX  \\\n102  0.22876  0.0   8.56   0.0  0.52  6.405  85.4  0.409859  5.0  384.0   \n103  0.21161  0.0   8.56   0.0  0.52  6.137  87.4  0.409859  5.0  384.0   \n104  0.13960  0.0   8.56   0.0  0.52  6.167  90.0  0.344665  5.0  384.0   \n105  0.13262  0.0   8.56   0.0  0.52  5.851  96.7  0.265543  5.0  384.0   \n106  0.17120  0.0   8.56   0.0  0.52  5.836  91.9  0.293002  5.0  384.0   \n\n     PTRATIO         B     LSTAT  MEDV  \n102     20.9  0.000000  0.023152  18.6  \n103     20.9  0.992548  0.387564  19.3  \n104     20.9  0.987090  0.253641  20.1  \n105     20.9  0.991260  0.703425  19.5  \n106     20.9  0.996228  0.897383  19.5  \n\n        CRIM    ZN  INDUS  CHAS     NOX     RM   AGE       DIS  RAD    TAX  \\\n204  0.02009  95.0   2.68   0.0  0.4161  8.034  31.9  0.639547  4.0  224.0   \n205  0.13642   0.0  10.59   0.0  0.4890  5.891  22.3  0.480206  4.0  277.0   \n206  0.22969   0.0  10.59   0.0  0.4890  6.326  52.5  0.540676  4.0  277.0   \n207  0.25199   0.0  10.59   0.0  0.4890  5.783  72.7  0.540676  4.0  277.0   \n208  0.13587   0.0  10.59   1.0  0.4890  6.064  59.1  0.524187  4.0  277.0   \n\n     PTRATIO         B     LSTAT  MEDV  \n204     14.7  0.885172 -1.750264  50.0  \n205     18.6  1.000000  0.695672  22.6  \n206     18.6  0.963291  0.712536  24.4  \n207     18.6  0.864919  1.630598  22.5  \n208     18.6  0.718264  1.246500  24.4  \n\n        CRIM    ZN  INDUS  CHAS    NOX     RM   AGE       DIS  RAD    TAX  \\\n306  0.07503  33.0   2.18   0.0  0.472  7.420  71.9  0.425223  7.0  222.0   \n307  0.04932  33.0   2.18   0.0  0.472  6.849  70.3  0.436424  7.0  222.0   \n308  0.49298   0.0   9.90   0.0  0.544  6.635  82.5  0.453901  4.0  304.0   \n309  0.34940   0.0   9.90   0.0  0.544  5.972  76.7  0.425672  4.0  304.0   \n310  2.63548   0.0   9.90   0.0  0.544  4.973  37.8  0.337960  4.0  304.0   \n\n     PTRATIO         B     LSTAT  MEDV  \n306     18.4  1.000000 -0.992557  33.4  \n307     18.4  1.000000 -0.737851  28.2  \n308     18.4  1.000000 -1.587271  22.8  \n309     18.4  0.997514 -0.266636  20.3  \n310     18.4  0.825034  0.131719  16.1  \n\n         CRIM   ZN  INDUS  CHAS    NOX     RM    AGE       DIS   RAD    TAX  \\\n408   7.40389  0.0   18.1   0.0  0.597  5.617   97.9  0.027313  24.0  666.0   \n409  14.43830  0.0   18.1   0.0  0.597  6.852  100.0  0.034259  24.0  666.0   \n410  51.13580  0.0   18.1   0.0  0.597  5.757  100.0  0.000000  24.0  666.0   \n411  14.05070  0.0   18.1   0.0  0.597  6.657  100.0  0.073172  24.0  666.0   \n412  18.81100  0.0   18.1   0.0  0.597  4.628  100.0  0.089263  24.0  666.0   \n\n     PTRATIO         B     LSTAT  MEDV  \n408     20.2  0.792577  1.315174  17.2  \n409     20.2  0.451460  0.491746  27.5  \n410     20.2  0.005749 -1.422542  15.0  \n411     20.2  0.087574  0.692183  17.2  \n412     20.2  0.071789  2.067659  17.9  \n\n"
    }
   ],
   "source": [
    "# Make sure to concatenate the data again\n",
    "y2 = pd.DataFrame(b2.target, columns=['MEDV'])\n",
    "for part in range(len(kf)):\n",
    "    _b = kf[part][\"B\"]\n",
    "    _logdis = np.log(kf[part][\"DIS\"])\n",
    "    _loglstat = np.log(kf[part][\"LSTAT\"])\n",
    "    # minmax scaling\n",
    "    kf[part][\"B\"] = (_b-min(_b))/(max(_b)-min(_b))\n",
    "    kf[part][\"DIS\"] = (_logdis-min(_logdis))/(max(_logdis)-min(_logdis))\n",
    "    #standardization\n",
    "    kf[part][\"LSTAT\"] = (_loglstat-np.mean(_loglstat))/np.sqrt(np.var(_loglstat))\n",
    "    kf[part] = pd.concat([kf[part], y2], axis=1, join='inner')\n",
    "    print(\"{}\\n\".format(kf[part].head()))"
   ]
  },
  {
   "cell_type": "markdown",
   "metadata": {},
   "source": [
    "### Perform a linear regression for each fold, and calculate the training and test error"
   ]
  },
  {
   "cell_type": "markdown",
   "metadata": {},
   "source": [
    "Perform linear regression on each and calculate the training and test error."
   ]
  },
  {
   "cell_type": "code",
   "execution_count": 9,
   "metadata": {},
   "outputs": [
    {
     "name": "stdout",
     "output_type": "stream",
     "text": "354 152 354 152\nTrain Mean Squarred Error: 16.963463823671816\nTest Mean Squarred Error: 16.4772303953525\ndelta: 0.4862334283193164\n354 152 354 152\nTrain Mean Squarred Error: 18.41079308855939\nTest Mean Squarred Error: 12.754837474683486\ndelta: 5.655955613875905\n354 152 354 152\nTrain Mean Squarred Error: 16.94553497573843\nTest Mean Squarred Error: 16.40526571851425\ndelta: 0.5402692572241783\n354 152 354 152\nTrain Mean Squarred Error: 16.445346561802243\nTest Mean Squarred Error: 17.331336978613255\ndelta: 0.885990416811012\n354 152 354 152\nTrain Mean Squarred Error: 16.835463172480136\nTest Mean Squarred Error: 16.296163148827787\ndelta: 0.5393000236523484\n\n[16.963463823671816, 18.41079308855939, 16.94553497573843, 16.445346561802243, 16.835463172480136]\n[16.4772303953525, 12.754837474683486, 16.40526571851425, 17.331336978613255, 16.296163148827787]\n"
    }
   ],
   "source": [
    "test_errs = []\n",
    "train_errs = []\n",
    "\n",
    "for part in range(len(kf)):\n",
    "    X_part = kf[part].drop('MEDV', axis=1)\n",
    "    y_part = kf[part]['MEDV']\n",
    "    # Split in train and test for the fold\n",
    "    X_part_train, X_part_test, y_part_train, y_part_test = train_test_split(X, y, test_size=0.3)\n",
    "    print(len(X_part_train), len(X_part_test), len(y_part_train), len(y_part_test))\n",
    "    # Fit a linear regression model\n",
    "    linreg.fit(X_part_train, y_part_train)\n",
    "    y_part_hat_train = linreg.predict(X_part_train)\n",
    "    y_part_hat_test = linreg.predict(X_part_test)\n",
    "    train_residuals = y_part_hat_train - y_part_train\n",
    "    test_residuals = y_part_hat_test - y_part_test\n",
    "    train_part_mse = mean_squared_error(y_part_train, y_part_hat_train)\n",
    "    test_part_mse = mean_squared_error(y_part_test, y_part_hat_test)    \n",
    "    print('Train Mean Squarred Error:', train_part_mse)\n",
    "    print('Test Mean Squarred Error:', test_part_mse)\n",
    "    delta = abs(train_part_mse - test_part_mse)\n",
    "    print(\"delta: {}\".format(delta))\n",
    "    train_errs.append(train_part_mse)\n",
    "    test_errs.append(test_part_mse)\n",
    "\n",
    "print(\"\\n{}\".format(train_errs))\n",
    "print(test_errs)"
   ]
  },
  {
   "cell_type": "markdown",
   "metadata": {},
   "source": [
    "## Cross-Validation using Scikit-Learn"
   ]
  },
  {
   "cell_type": "markdown",
   "metadata": {},
   "source": [
    "This was a bit of work! Now, let's perform 5-fold cross-validation to get the mean squared error through scikit-learn. Let's have a look at the five individual MSEs and explain what's going on."
   ]
  },
  {
   "cell_type": "code",
   "execution_count": 10,
   "metadata": {},
   "outputs": [
    {
     "data": {
      "text/plain": "-25.344451926139975"
     },
     "execution_count": 10,
     "metadata": {},
     "output_type": "execute_result"
    }
   ],
   "source": [
    "from sklearn.metrics import mean_squared_error\n",
    "from sklearn.model_selection import cross_val_score\n",
    "\n",
    "cv_5_results  = np.mean(cross_val_score(linreg, X, y, cv=5, scoring='neg_mean_squared_error'))\n",
    "cv_5_results"
   ]
  },
  {
   "cell_type": "markdown",
   "metadata": {},
   "source": [
    "Next, calculate the mean of the MSE over the 5 cross-validations and compare and contrast with the result from the train-test-split case."
   ]
  },
  {
   "cell_type": "code",
   "execution_count": 11,
   "metadata": {},
   "outputs": [
    {
     "name": "stdout",
     "output_type": "stream",
     "text": "abs(train_mse - mean_train_mse)=abs(16.41786509350068, 17.1201203244504)=0.7022552309497208\nabs(test_mse - mean_test_mse)=abs(17.744121372848614, 15.852966743198255)=1.8911546296503587\n"
    }
   ],
   "source": [
    "mean_train_mse = np.array(train_errs).mean()\n",
    "mean_test_mse = np.array(test_errs).mean()\n",
    "\n",
    "print(\"abs(train_mse - mean_train_mse)=abs({}, {})={}\".format(train_mse, mean_train_mse, abs(train_mse - mean_train_mse)))\n",
    "print(\"abs(test_mse - mean_test_mse)=abs({}, {})={}\".format(test_mse, mean_test_mse, abs(test_mse - mean_test_mse)))"
   ]
  },
  {
   "cell_type": "markdown",
   "metadata": {},
   "source": [
    "##  Summary "
   ]
  },
  {
   "cell_type": "markdown",
   "metadata": {},
   "source": [
    "Congratulations! You now practiced your knowledge on k-fold crossvalidation!"
   ]
  }
 ],
 "metadata": {
  "kernelspec": {
   "display_name": "Python 3",
   "language": "python",
   "name": "python3"
  },
  "language_info": {
   "codemirror_mode": {
    "name": "ipython",
    "version": 3
   },
   "file_extension": ".py",
   "mimetype": "text/x-python",
   "name": "python",
   "nbconvert_exporter": "python",
   "pygments_lexer": "ipython3",
   "version": "3.6.4"
  }
 },
 "nbformat": 4,
 "nbformat_minor": 2
}